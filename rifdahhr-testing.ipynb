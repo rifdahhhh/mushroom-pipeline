{
 "cells": [
  {
   "cell_type": "markdown",
   "id": "4b8fe55e",
   "metadata": {},
   "source": [
    "# Make Prediction Request"
   ]
  },
  {
   "cell_type": "code",
   "execution_count": 1,
   "id": "8475971b",
   "metadata": {},
   "outputs": [
    {
     "name": "stdout",
     "output_type": "stream",
     "text": [
      "Raw response: {'predictions': [[0.998838544]]}\n",
      "Predicted Label: 1 | Probability: 0.9988\n"
     ]
    }
   ],
   "source": [
    "import json\n",
    "import requests\n",
    "import tensorflow as tf\n",
    "\n",
    "def create_example(features_dict):\n",
    "    # Fitur dikodekan sebagai string -> TF Example\n",
    "    feature = {\n",
    "        key: tf.train.Feature(bytes_list=tf.train.BytesList(value=[value.encode()]))\n",
    "        for key, value in features_dict.items()\n",
    "    }\n",
    "    example_proto = tf.train.Example(features=tf.train.Features(feature=feature))\n",
    "    return example_proto.SerializeToString()\n",
    "\n",
    "# Contoh input (harus valid dan sama formatnya dengan data training)\n",
    "example_dict = {\n",
    "    \"cap-shape\": \"x\",\n",
    "    \"cap-surface\": \"s\",\n",
    "    \"cap-color\": \"n\",\n",
    "    \"bruises\": \"t\",\n",
    "    \"odor\": \"p\",\n",
    "    \"gill-attachment\": \"f\",\n",
    "    \"gill-spacing\": \"c\",\n",
    "    \"gill-size\": \"n\",\n",
    "    \"gill-color\": \"k\",\n",
    "    \"stalk-shape\": \"e\",\n",
    "    \"stalk-root\": \"e\",\n",
    "    \"stalk-surface-above-ring\": \"s\",\n",
    "    \"stalk-surface-below-ring\": \"s\",\n",
    "    \"stalk-color-above-ring\": \"w\",\n",
    "    \"stalk-color-below-ring\": \"w\",\n",
    "    \"veil-type\": \"p\",\n",
    "    \"veil-color\": \"w\",\n",
    "    \"ring-number\": \"o\",\n",
    "    \"ring-type\": \"p\",\n",
    "    \"spore-print-color\": \"k\",\n",
    "    \"population\": \"s\",\n",
    "    \"habitat\": \"u\"\n",
    "}\n",
    "\n",
    "# Serialisasi ke TF Example\n",
    "serialized_example = create_example(example_dict)\n",
    "\n",
    "# Kirim ke TensorFlow Serving\n",
    "endpoint = \"http://localhost:8080/v1/models/mushroom-model:predict\"\n",
    "headers = {\"content-type\": \"application/json\"}\n",
    "data = json.dumps({\"instances\": [serialized_example.decode(\"ISO-8859-1\")]})  # decode to string\n",
    "\n",
    "response = requests.post(endpoint, data=data, headers=headers)\n",
    "\n",
    "# Hasil prediksi\n",
    "print(\"Raw response:\", response.json())\n",
    "predicted_prob = response.json()[\"predictions\"][0][0]\n",
    "predicted_label = 1 if predicted_prob >= 0.5 else 0\n",
    "\n",
    "print(f\"Predicted Label: {predicted_label} | Probability: {predicted_prob:.4f}\")\n"
   ]
  },
  {
   "cell_type": "markdown",
   "id": "74a761d6",
   "metadata": {},
   "source": [
    "Jamur tersebut diprediksi sebagai Poisonous (beracun) dengan tingkat keyakinan 99.88%."
   ]
  },
  {
   "cell_type": "code",
   "execution_count": null,
   "id": "48a6a65b",
   "metadata": {},
   "outputs": [],
   "source": []
  }
 ],
 "metadata": {
  "kernelspec": {
   "display_name": "mlops-tfx",
   "language": "python",
   "name": "python3"
  },
  "language_info": {
   "codemirror_mode": {
    "name": "ipython",
    "version": 3
   },
   "file_extension": ".py",
   "mimetype": "text/x-python",
   "name": "python",
   "nbconvert_exporter": "python",
   "pygments_lexer": "ipython3",
   "version": "3.8.18"
  }
 },
 "nbformat": 4,
 "nbformat_minor": 5
}
